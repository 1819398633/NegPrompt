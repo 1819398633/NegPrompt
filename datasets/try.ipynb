{
 "cells": [
  {
   "cell_type": "code",
   "execution_count": 1,
   "metadata": {},
   "outputs": [],
   "source": [
    "import pandas as pd"
   ]
  },
  {
   "cell_type": "code",
   "execution_count": 3,
   "metadata": {},
   "outputs": [
    {
     "data": {
      "text/html": [
       "<div>\n",
       "<style scoped>\n",
       "    .dataframe tbody tr th:only-of-type {\n",
       "        vertical-align: middle;\n",
       "    }\n",
       "\n",
       "    .dataframe tbody tr th {\n",
       "        vertical-align: top;\n",
       "    }\n",
       "\n",
       "    .dataframe thead th {\n",
       "        text-align: right;\n",
       "    }\n",
       "</style>\n",
       "<table border=\"1\" class=\"dataframe\">\n",
       "  <thead>\n",
       "    <tr style=\"text-align: right;\">\n",
       "      <th></th>\n",
       "      <th>train/n02111277/n02111277_7303.JPEG</th>\n",
       "      <th>103</th>\n",
       "    </tr>\n",
       "  </thead>\n",
       "  <tbody>\n",
       "    <tr>\n",
       "      <th>0</th>\n",
       "      <td>train/n02111889/n02111889_7100.JPEG</td>\n",
       "      <td>105</td>\n",
       "    </tr>\n",
       "    <tr>\n",
       "      <th>1</th>\n",
       "      <td>train/n02087046/n02087046_5350.JPEG</td>\n",
       "      <td>7</td>\n",
       "    </tr>\n",
       "    <tr>\n",
       "      <th>2</th>\n",
       "      <td>train/n02095314/n02095314_7.JPEG</td>\n",
       "      <td>35</td>\n",
       "    </tr>\n",
       "    <tr>\n",
       "      <th>3</th>\n",
       "      <td>train/n02097658/n02097658_6587.JPEG</td>\n",
       "      <td>48</td>\n",
       "    </tr>\n",
       "    <tr>\n",
       "      <th>4</th>\n",
       "      <td>train/n02093991/n02093991_2430.JPEG</td>\n",
       "      <td>31</td>\n",
       "    </tr>\n",
       "    <tr>\n",
       "      <th>...</th>\n",
       "      <td>...</td>\n",
       "      <td>...</td>\n",
       "    </tr>\n",
       "    <tr>\n",
       "      <th>185892</th>\n",
       "      <td>train/n02096177/n02096177_164.JPEG</td>\n",
       "      <td>39</td>\n",
       "    </tr>\n",
       "    <tr>\n",
       "      <th>185893</th>\n",
       "      <td>train/n02096177/n02096177_10753.JPEG</td>\n",
       "      <td>39</td>\n",
       "    </tr>\n",
       "    <tr>\n",
       "      <th>185894</th>\n",
       "      <td>train/n02105505/n02105505_3525.JPEG</td>\n",
       "      <td>75</td>\n",
       "    </tr>\n",
       "    <tr>\n",
       "      <th>185895</th>\n",
       "      <td>train/n02107908/n02107908_6985.JPEG</td>\n",
       "      <td>87</td>\n",
       "    </tr>\n",
       "    <tr>\n",
       "      <th>185896</th>\n",
       "      <td>train/n02110341/n02110341_2701.JPEG</td>\n",
       "      <td>98</td>\n",
       "    </tr>\n",
       "  </tbody>\n",
       "</table>\n",
       "<p>185897 rows × 2 columns</p>\n",
       "</div>"
      ],
      "text/plain": [
       "         train/n02111277/n02111277_7303.JPEG  103\n",
       "0        train/n02111889/n02111889_7100.JPEG  105\n",
       "1        train/n02087046/n02087046_5350.JPEG    7\n",
       "2           train/n02095314/n02095314_7.JPEG   35\n",
       "3        train/n02097658/n02097658_6587.JPEG   48\n",
       "4        train/n02093991/n02093991_2430.JPEG   31\n",
       "...                                      ...  ...\n",
       "185892    train/n02096177/n02096177_164.JPEG   39\n",
       "185893  train/n02096177/n02096177_10753.JPEG   39\n",
       "185894   train/n02105505/n02105505_3525.JPEG   75\n",
       "185895   train/n02107908/n02107908_6985.JPEG   87\n",
       "185896   train/n02110341/n02110341_2701.JPEG   98\n",
       "\n",
       "[185897 rows x 2 columns]"
      ]
     },
     "execution_count": 3,
     "metadata": {},
     "output_type": "execute_result"
    }
   ],
   "source": [
    "pd.read_csv('/home/user/data1/ltq/projects/vision-language/DATA/imagenet-object-localization-challenge/protocols/p1_train.csv')"
   ]
  },
  {
   "cell_type": "code",
   "execution_count": null,
   "metadata": {},
   "outputs": [],
   "source": [
    "image_path = Path()"
   ]
  }
 ],
 "metadata": {
  "kernelspec": {
   "display_name": "poset",
   "language": "python",
   "name": "python3"
  },
  "language_info": {
   "codemirror_mode": {
    "name": "ipython",
    "version": 3
   },
   "file_extension": ".py",
   "mimetype": "text/x-python",
   "name": "python",
   "nbconvert_exporter": "python",
   "pygments_lexer": "ipython3",
   "version": "3.9.15"
  },
  "orig_nbformat": 4
 },
 "nbformat": 4,
 "nbformat_minor": 2
}
