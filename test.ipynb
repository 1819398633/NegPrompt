{
 "cells": [
  {
   "cell_type": "code",
   "execution_count": null,
   "metadata": {},
   "outputs": [
    {
     "name": "stdout",
     "output_type": "stream",
     "text": [
      "Original to Modified: {0: 0, 1: 1, 3: 2, 5: 3, 9: 4}\n",
      "Modified to Original: {0: 0, 1: 1, 2: 3, 3: 5, 4: 9}\n"
     ]
    }
   ],
   "source": [
    "import\trandom\n",
    "def label_transform(input_list, K, N):\n",
    "    \"\"\"\n",
    "    Pick K-len(input_list) random numbers excluding the ones in the input list from 0 to N, \n",
    "    so that there is no repetition with the numbers in the input list.\n",
    "    Then, map the numbers in the list and the random numbers to integers between 0 and K,\n",
    "    and return the mapping as a dictionary.\n",
    "    \"\"\"\n",
    "    nums = set(input_list)\n",
    "    while len(nums) < K:\n",
    "        new_num = random.randint(0, N)\n",
    "        if new_num not in nums:\n",
    "            nums.add(new_num)\n",
    "    ori_to_modify = {}\n",
    "    modify_to_ori = {}\n",
    "\n",
    "    map_counter = 0\n",
    "    for num in sorted(nums):\n",
    "        ori_to_modify[num] = map_counter\n",
    "        modify_to_ori[map_counter] = num\n",
    "        map_counter += 1\n",
    "    return ori_to_modify, modify_to_ori\n",
    "\n",
    "# Example usage\n",
    "input_list = [1, 3, 5]\n",
    "K = 5\n",
    "N = 10\n",
    "ori_to_modify, modify_to_ori = label_transform(input_list, K, N)\n",
    "print(\"Original to Modified:\", ori_to_modify)\n",
    "print(\"Modified to Original:\", modify_to_ori)\n",
    "def label_transform(input_list, K, N):\n",
    "    \"\"\"\n",
    "    Pick K-len(input_list) random numbers excluding the ones in the input list from 0 to N, \n",
    "    so that there is no repetition with the numbers in the input list.\n",
    "    Then, map the numbers in the list and the random numbers to integers between 0 and K,\n",
    "    and return the mapping as a dictionary.\n",
    "    \"\"\"\n",
    "    nums = set(input_list)\n",
    "    while len(nums) < K:\n",
    "        new_num = random.randint(0, N)\n",
    "        if new_num not in nums:\n",
    "            nums.add(new_num)\n",
    "    ori_to_modify = {}\n",
    "    modify_to_ori = {}\n",
    "\n",
    "    map_counter = 0\n",
    "    for num in sorted(nums):\n",
    "        ori_to_modify[num] = map_counter\n",
    "        modify_to_ori[map_counter] = num\n",
    "        map_counter += 1\n",
    "    return ori_to_modify, modify_to_ori\n",
    "\n"
   ]
  }
 ],
 "metadata": {
  "kernelspec": {
   "display_name": "mlproject",
   "language": "python",
   "name": "python3"
  },
  "language_info": {
   "codemirror_mode": {
    "name": "ipython",
    "version": 3
   },
   "file_extension": ".py",
   "mimetype": "text/x-python",
   "name": "python",
   "nbconvert_exporter": "python",
   "pygments_lexer": "ipython3",
   "version": "3.8.18"
  }
 },
 "nbformat": 4,
 "nbformat_minor": 2
}
